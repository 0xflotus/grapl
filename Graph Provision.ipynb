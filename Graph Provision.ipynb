{
 "cells": [
  {
   "cell_type": "code",
   "execution_count": 2,
   "metadata": {},
   "outputs": [
    {
     "name": "stdout",
     "output_type": "stream",
     "text": [
      "Collecting pydgraph\n",
      "  Downloading https://files.pythonhosted.org/packages/d1/cd/25ac8d97f346fdbed0ad53e04ae2dd8360d0b93efec211d606cdff4a0af7/pydgraph-1.2.0-py2.py3-none-any.whl\n",
      "Requirement already satisfied: protobuf>=3.6.1 in /home/ec2-user/anaconda3/envs/python3/lib/python3.6/site-packages (from pydgraph) (3.6.1)\n",
      "Collecting grpcio>=1.18.0 (from pydgraph)\n",
      "\u001b[?25l  Downloading https://files.pythonhosted.org/packages/f2/5d/b434403adb2db8853a97828d3d19f2032e79d630e0d11a8e95d243103a11/grpcio-1.22.0-cp36-cp36m-manylinux1_x86_64.whl (2.2MB)\n",
      "\u001b[K    100% |████████████████████████████████| 2.2MB 17.4MB/s ta 0:00:01\n",
      "\u001b[?25hRequirement already satisfied: six>=1.9 in /home/ec2-user/anaconda3/envs/python3/lib/python3.6/site-packages (from protobuf>=3.6.1->pydgraph) (1.11.0)\n",
      "Requirement already satisfied: setuptools in /home/ec2-user/anaconda3/envs/python3/lib/python3.6/site-packages (from protobuf>=3.6.1->pydgraph) (39.1.0)\n",
      "Installing collected packages: grpcio, pydgraph\n",
      "Successfully installed grpcio-1.22.0 pydgraph-1.2.0\n",
      "\u001b[33mYou are using pip version 10.0.1, however version 19.2.1 is available.\n",
      "You should consider upgrading via the 'pip install --upgrade pip' command.\u001b[0m\n"
     ]
    }
   ],
   "source": [
    "!pip install pydgraph"
   ]
  },
  {
   "cell_type": "code",
   "execution_count": 14,
   "metadata": {},
   "outputs": [],
   "source": [
    "import json\n",
    "import pydgraph\n",
    "from pydgraph import DgraphClient, DgraphClientStub"
   ]
  },
  {
   "cell_type": "code",
   "execution_count": 21,
   "metadata": {},
   "outputs": [],
   "source": [
    "def set_process_schema(client):\n",
    "    \n",
    "    schema = \"\"\"node_key: string @upsert @index(hash) .\n",
    "    pid: int @index(int) .\n",
    "    created_time: int @index(int) .\n",
    "    asset_id: string @index(hash) .\n",
    "    terminate_time: int @index(int) .\n",
    "    image_name: string @index(exact, hash, trigram, fulltext) .\n",
    "    process_name: string @index(exact, hash, trigram, fulltext) .\n",
    "    arguments: string  @index(fulltext)  @index(trigram) .\n",
    "    bin_file: uid @reverse .\n",
    "    children: uid @reverse .\n",
    "    created_files: uid @reverse .\n",
    "    deleted_files: uid @reverse .\n",
    "    read_files: uid @reverse .\n",
    "    wrote_files: uid @reverse .\n",
    "    created_connection: uid @reverse .\n",
    "    bound_connection: uid @reverse .\"\"\"\n",
    "    \n",
    "    op = pydgraph.Operation(schema=schema)\n",
    "    client.alter(op)\n",
    "    \n",
    "def set_file_schema(client):\n",
    "    \n",
    "    schema = \"\"\"\n",
    "    node_key: string @upsert @index(hash) .\n",
    "    file_name: string @index(exact, hash, trigram, fulltext) .\n",
    "    asset_id: string @index(exact, hash, trigram, fulltext) .\n",
    "    file_path: string @index(exact, hash, trigram, fulltext) .\n",
    "    file_extension: string @index(exact, hash, trigram, fulltext) .\n",
    "    file_mime_type: string @index(exact, hash, trigram, fulltext) .\n",
    "    file_size: int @index(int) .\n",
    "    file_version: string @index(exact, hash, trigram, fulltext) .\n",
    "    file_description: string @index(exact, hash, trigram, fulltext) .\n",
    "    file_product: string @index(exact, hash, trigram, fulltext) .\n",
    "    file_company: string @index(exact, hash, trigram, fulltext) .\n",
    "    file_directory: string @index(exact, hash, trigram, fulltext) .\n",
    "    file_inode: int @index(int) .\n",
    "    file_hard_links: string @index(exact, hash, trigram, fulltext) .\n",
    "    md5_hash: string @index(exact, hash, trigram, fulltext) .\n",
    "    sha1_hash: string @index(exact, hash, trigram, fulltext) .\n",
    "    sha256_hash: string @index(exact, hash, trigram, fulltext) .\n",
    "    \"\"\"\n",
    "    op = pydgraph.Operation(schema=schema)\n",
    "    client.alter(op)\n",
    "    \n",
    "def set_outbound_connection_schema(client, engagement=False):\n",
    "    schema = \"\"\"\n",
    "    \n",
    "        create_time: int @index(int) .\n",
    "        terminate_time: int @index(int) .\n",
    "        last_seen_time: int @index(int) .\n",
    "        ip: string @index(exact, trigram, hash) .\n",
    "        port: string @index(exact, trigram, hash) .\n",
    "    \"\"\"\n",
    "    op = pydgraph.Operation(schema=schema)\n",
    "    client.alter(op)\n",
    "    \n",
    "    \n",
    "def set_external_ip_schema(client, engagement=False):\n",
    "    schema = \"\"\"\n",
    "        external_ip: string @index(exact, trigram, hash) .\n",
    "    \"\"\"\n",
    "    op = pydgraph.Operation(schema=schema)\n",
    "    client.alter(op)"
   ]
  },
  {
   "cell_type": "code",
   "execution_count": 16,
   "metadata": {},
   "outputs": [],
   "source": [
    "mclient = DgraphClient(DgraphClientStub('alpha0.mastergraphcluster.grapl:9080'))\n",
    "eclient = DgraphClient(DgraphClientStub('alpha0.engagementgraphcluster.grapl:9080'))"
   ]
  },
  {
   "cell_type": "code",
   "execution_count": 20,
   "metadata": {},
   "outputs": [],
   "source": [
    "# master nodes\n",
    "set_process_schema(mclient)\n",
    "set_file_schema(mclient)\n",
    "set_outbound_connection_schema(mclient)\n",
    "set_external_ip_schema(mclient)\n",
    "\n",
    "# engagement nodes\n",
    "set_process_schema(eclient)\n",
    "set_file_schema(eclient)\n",
    "set_outbound_connection_schema(eclient)\n",
    "set_external_ip_schema(eclient)"
   ]
  },
  {
   "cell_type": "code",
   "execution_count": null,
   "metadata": {},
   "outputs": [],
   "source": []
  }
 ],
 "metadata": {
  "kernelspec": {
   "display_name": "conda_python3",
   "language": "python",
   "name": "conda_python3"
  },
  "language_info": {
   "codemirror_mode": {
    "name": "ipython",
    "version": 3
   },
   "file_extension": ".py",
   "mimetype": "text/x-python",
   "name": "python",
   "nbconvert_exporter": "python",
   "pygments_lexer": "ipython3",
   "version": "3.6.5"
  }
 },
 "nbformat": 4,
 "nbformat_minor": 2
}
