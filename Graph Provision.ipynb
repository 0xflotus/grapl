{
 "cells": [
  {
   "cell_type": "code",
   "execution_count": null,
   "metadata": {},
   "outputs": [],
   "source": [
    "!pip install pydgraph"
   ]
  },
  {
   "cell_type": "code",
   "execution_count": 183,
   "metadata": {},
   "outputs": [],
   "source": [
    "import json\n",
    "import pydgraph\n",
    "from pydgraph import DgraphClient, DgraphClientStub"
   ]
  },
  {
   "cell_type": "code",
   "execution_count": 1,
   "metadata": {},
   "outputs": [],
   "source": [
    "def set_process_schema(client, engagement=False, drop_all=False):\n",
    "    \n",
    "    schema = \"\"\"node_key: string @upsert @index(hash) .\n",
    "    pid: int @index(int) .\n",
    "    created_time: int @index(int) .\n",
    "    asset_id: string @index(hash) .\n",
    "    terminate_time: int @index(int) .\n",
    "    image_name: string @index(hash) @index(fulltext) @index(trigram) .\n",
    "    arguments: string  @index(fulltext)  @index(trigram) .\n",
    "    bin_file: uid @reverse .\n",
    "    children: uid @reverse .\n",
    "    created_files: uid @reverse .\n",
    "    deleted_files: uid @reverse .\n",
    "    read_files: uid @reverse .\n",
    "    wrote_files: uid @reverse .\n",
    "    created_connection: uid @reverse .\n",
    "    bound_connection: uid @reverse .\"\"\"\n",
    "    \n",
    "    if engagement:\n",
    "        schema += \"\\n engagement_id: string @index(hash) .\"\n",
    "    \n",
    "    op = pydgraph.Operation(schema=schema, drop_all=drop_all)\n",
    "    client.alter(op)\n",
    "    \n",
    "def set_file_schema(client, engagement=False, drop_all=False):\n",
    "    \n",
    "    schema = \"\"\"\n",
    "    node_key: string @upsert @index(hash) .\n",
    "    asset_id: string @index(hash) .\n",
    "    create_time: int @index(int) .\n",
    "    delete_time: int @index(int) .\n",
    "    path: string @index(hash) @index(fulltext) @index(trigram) .\n",
    "    \"\"\"\n",
    "    if engagement:\n",
    "        schema += \"\\n engagement_id: string @index(hash) .\"\n",
    "        \n",
    "    op = pydgraph.Operation(schema=schema, drop_all=drop_all)\n",
    "    client.alter(op)"
   ]
  },
  {
   "cell_type": "code",
   "execution_count": 202,
   "metadata": {},
   "outputs": [],
   "source": [
    "mclient = DgraphClient(DgraphClientStub('alpha0.mastergraphcluster.grapl:9080'))\n",
    "eclient = DgraphClient(DgraphClientStub('alpha0.engagementgraphcluster.grapl:9080'))"
   ]
  },
  {
   "cell_type": "code",
   "execution_count": 204,
   "metadata": {},
   "outputs": [],
   "source": [
    "set_process_schema(mclient, drop_all=True)\n",
    "set_file_schema(mclient, drop_all=True)\n",
    "set_process_schema(eclient, True, drop_all=True)\n",
    "set_file_schema(eclient, True, drop_all=True)\n",
    "set_process_schema(mclient)\n",
    "set_file_schema(mclient)\n",
    "set_process_schema(eclient, True)\n",
    "set_file_schema(eclient, True)"
   ]
  }
 ],
 "metadata": {
  "kernelspec": {
   "display_name": "conda_python3",
   "language": "python",
   "name": "conda_python3"
  },
  "language_info": {
   "codemirror_mode": {
    "name": "ipython",
    "version": 3
   },
   "file_extension": ".py",
   "mimetype": "text/x-python",
   "name": "python",
   "nbconvert_exporter": "python",
   "pygments_lexer": "ipython3",
   "version": "3.6.5"
  }
 },
 "nbformat": 4,
 "nbformat_minor": 2
}
