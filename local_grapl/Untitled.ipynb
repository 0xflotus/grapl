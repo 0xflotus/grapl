{
 "cells": [
  {
   "cell_type": "code",
   "execution_count": 1,
   "metadata": {},
   "outputs": [],
   "source": [
    "import json\n",
    "import pydgraph\n",
    "\n",
    "from pprint import pprint\n",
    "\n",
    "from pydgraph import DgraphClient, DgraphClientStub\n",
    "\n",
    "from grapl_analyzerlib.nodes.process_node import ProcessQuery\n",
    "from grapl_analyzerlib.nodes.comparators import Not\n"
   ]
  },
  {
   "cell_type": "code",
   "execution_count": 5,
   "metadata": {},
   "outputs": [],
   "source": [
    "mclient = DgraphClient(DgraphClientStub('localhost:9080'))\n",
    "eclient = DgraphClient(DgraphClientStub('localhost:9081'))\n"
   ]
  },
  {
   "cell_type": "code",
   "execution_count": 17,
   "metadata": {},
   "outputs": [
    {
     "name": "stdout",
     "output_type": "stream",
     "text": [
      "None\n"
     ]
    }
   ],
   "source": [
    "invalid_parents = [\n",
    "    Not(\"services.exe\"),\n",
    "    Not(\"smss.exe\"),\n",
    "    Not(\"ngentask.exe\"),\n",
    "    Not(\"userinit.exe\"),\n",
    "    Not(\"GoogleUpdate.exe\"),\n",
    "    Not(\"conhost.exe\"),\n",
    "    Not(\"MpCmdRun.exe\"),\n",
    "]\n",
    "\n",
    "res = (\n",
    "    ProcessQuery()\n",
    "#         .with_process_name(eq=invalid_parents)\n",
    "#         .with_children(\n",
    "#             ProcessQuery().with_process_name(eq=\"svchost.exe\")\n",
    "#         )\n",
    "    .query_first(eclient)\n",
    ")\n",
    "# res.get_process_name()\n",
    "pprint(res)"
   ]
  },
  {
   "cell_type": "code",
   "execution_count": 11,
   "metadata": {},
   "outputs": [
    {
     "name": "stdout",
     "output_type": "stream",
     "text": [
      "[]\n"
     ]
    }
   ],
   "source": [
    "query = \"\"\"\n",
    "\n",
    "    {\n",
    "    q(func: has(node_key)) {\n",
    "      expand(_all_) {\n",
    "          dgraph.type,\n",
    "          expand(_all_)\n",
    "      }\n",
    "    }\n",
    "    }\n",
    "\"\"\"\n",
    "\n",
    "txn = eclient.txn(read_only=True)\n",
    "\n",
    "try:\n",
    "    res = json.loads(txn.query(query).json)['q']\n",
    "finally:\n",
    "    txn.discard()\n",
    "    \n",
    "pprint(res)"
   ]
  }
 ],
 "metadata": {
  "kernelspec": {
   "display_name": "Python 3",
   "language": "python",
   "name": "python3"
  },
  "language_info": {
   "codemirror_mode": {
    "name": "ipython",
    "version": 3
   },
   "file_extension": ".py",
   "mimetype": "text/x-python",
   "name": "python",
   "nbconvert_exporter": "python",
   "pygments_lexer": "ipython3",
   "version": "3.6.9"
  }
 },
 "nbformat": 4,
 "nbformat_minor": 4
}
